{
 "cells": [
  {
   "cell_type": "markdown",
   "metadata": {
    "user_expressions": []
   },
   "source": [
    "# Worksheet 04\n",
    "\n",
    "Name:  JIAYI YANG\n",
    "UID: U20886114\n",
    "\n",
    "### Topics\n",
    "\n",
    "- Distance & Similarity"
   ]
  },
  {
   "cell_type": "markdown",
   "metadata": {
    "user_expressions": []
   },
   "source": [
    "### Distance & Similarity\n",
    "\n",
    "#### Part 1\n",
    "\n",
    "a) In the minkowski distance, describe what the parameters p and d are."
   ]
  },
  {
   "cell_type": "markdown",
   "metadata": {
    "user_expressions": []
   },
   "source": [
    "p: The parameter p represents the order of the norm. It's a crucial parameter that influences the general shape of the distance measure between two points.\n",
    "d: In the context of the Minkowski distance, d typically represents the calculated distance between two points using the Minkowski formula."
   ]
  },
  {
   "cell_type": "markdown",
   "metadata": {
    "user_expressions": []
   },
   "source": [
    "b) In your own words describe the difference between the Euclidean distance and the Manhattan distance."
   ]
  },
  {
   "cell_type": "markdown",
   "metadata": {
    "user_expressions": []
   },
   "source": [
    "Euclidean distance measures the shortest straight-line distance between two points; It's calculated using the square root of the sum of the squared differences between the points' coordinates. Manhattan distance, on the other hand, measures the distance between two points by only allowing movement along the grid lines; It's the sum of the absolute differences between the points' coordinates, reflecting the total number of blocks traveled."
   ]
  },
  {
   "cell_type": "markdown",
   "metadata": {
    "user_expressions": []
   },
   "source": [
    "Consider A = (0, 0) and B = (1, 1). When:\n",
    "\n",
    "- p = 1, d(A, B) = 2\n",
    "- p = 2, d(A, B) = $\\sqrt{2} = 1.41$\n",
    "- p = 3, d(A, B) = $2^{1/3} = 1.26$\n",
    "- p = 4, d(A, B) = $2^{1/4} = 1.19$\n",
    "\n",
    "c) Describe what you think distance would look like when p is very large."
   ]
  },
  {
   "cell_type": "markdown",
   "metadata": {
    "user_expressions": []
   },
   "source": [
    "As p approaches infinity, the Minkowski distance converges to the Chebyshev distance. This distance is determined by the maximum difference along any dimension between two points. In practical terms, it ignores the smaller differences and focuses solely on the largest single difference."
   ]
  },
  {
   "cell_type": "markdown",
   "metadata": {},
   "source": [
    "d) Is the minkowski distance still a distance function when p < 1? Expain why / why not."
   ]
  },
  {
   "cell_type": "markdown",
   "metadata": {
    "user_expressions": []
   },
   "source": [
    "When p<1, the Minkowski formula does not satisfy the triangle inequality, which is a fundamental property of a distance function. Therefore, it cannot be considered a proper distance metric in these cases because it could produce non-intuitive and mathematically inconsistent results."
   ]
  },
  {
   "cell_type": "markdown",
   "metadata": {},
   "source": [
    "e) when would you use cosine similarity over the euclidan distance?"
   ]
  },
  {
   "cell_type": "markdown",
   "metadata": {
    "user_expressions": []
   },
   "source": [
    "Cosine similarity is preferred over Euclidean distance when the magnitude of the vectors is not important but the orientation or direction of the vectors in space is. This is particularly useful in text analysis and information retrieval, where the similarity of the documents or vectors depends on the angle between them, not their length."
   ]
  },
  {
   "cell_type": "markdown",
   "metadata": {},
   "source": [
    "f) what does the jaccard distance account for that the manhattan distance doesn't?"
   ]
  },
  {
   "cell_type": "markdown",
   "metadata": {
    "user_expressions": []
   },
   "source": [
    "The Jaccard distance measures similarity between finite sample sets, focusing on the presence and absence of features by comparing the size of the intersection divided by the size of the union of the sample sets. It accounts for similarity in terms of shared and distinct elements, unlike the Manhattan distance, which sums the absolute differences of their coordinates, focusing on the magnitude of differences in the vector space."
   ]
  },
  {
   "cell_type": "markdown",
   "metadata": {
    "user_expressions": []
   },
   "source": [
    "#### Part 2\n",
    "\n",
    "Consider the following two sentences:"
   ]
  },
  {
   "cell_type": "code",
   "execution_count": null,
   "metadata": {
    "tags": []
   },
   "outputs": [],
   "source": [
    "s1 = \"hello my name is Alice\"  \n",
    "s2 = \"hello my name is Bob\""
   ]
  },
  {
   "cell_type": "markdown",
   "metadata": {
    "user_expressions": []
   },
   "source": [
    "using the union of words from both sentences, we can represent each sentence as a vector. Each element of the vector represents the presence or absence of the word at that index.\n",
    "\n",
    "In this example, the union of words is (\"hello\", \"my\", \"name\", \"is\", \"Alice\", \"Bob\") so we can represent the above sentences as such:"
   ]
  },
  {
   "cell_type": "code",
   "execution_count": null,
   "metadata": {
    "tags": []
   },
   "outputs": [],
   "source": [
    "v1 = [1,    1, 1,   1, 1,    0]\n",
    "#     hello my name is Alice\n",
    "v2 = [1,    1, 1,   1, 0, 1]\n",
    "#     hello my name is    Bob"
   ]
  },
  {
   "cell_type": "markdown",
   "metadata": {
    "user_expressions": []
   },
   "source": [
    "Programmatically, we can do the following:"
   ]
  },
  {
   "cell_type": "code",
   "execution_count": null,
   "metadata": {
    "tags": []
   },
   "outputs": [],
   "source": [
    "corpus = [s1, s2]\n",
    "all_words = list(set([item for x in corpus for item in x.split()]))\n",
    "print(all_words)\n",
    "v1 = [1 if x in s1 else 0 for x in all_words]\n",
    "print(v1)"
   ]
  },
  {
   "cell_type": "markdown",
   "metadata": {
    "user_expressions": []
   },
   "source": [
    "Let's add a new sentence to our corpus:"
   ]
  },
  {
   "cell_type": "code",
   "execution_count": null,
   "metadata": {
    "tags": []
   },
   "outputs": [],
   "source": [
    "s3 = \"hi my name is Claude\"\n",
    "corpus.append(s3)"
   ]
  },
  {
   "cell_type": "markdown",
   "metadata": {
    "user_expressions": []
   },
   "source": [
    "a) What is the new union of words used to represent s1, s2, and s3?"
   ]
  },
  {
   "cell_type": "code",
   "execution_count": null,
   "metadata": {
    "tags": []
   },
   "outputs": [],
   "source": [
    "{\"Alice\", \"Bob\", \"Claude\", \"hello\", \"hi\", \"is\", \"my\", \"name\"}"
   ]
  },
  {
   "cell_type": "markdown",
   "metadata": {
    "user_expressions": []
   },
   "source": [
    "b) Represent s1, s2, and s3 as vectors as above, using this new set of words."
   ]
  },
  {
   "cell_type": "code",
   "execution_count": null,
   "metadata": {
    "tags": []
   },
   "outputs": [],
   "source": [
    "V1 = [1, 0, 0, 1, 0, 1, 1, 1]\n",
    "V2 = [1, 0, 1, 1, 0, 0, 1, 1]\n",
    "V3 = [1, 1, 0, 1, 1, 0, 0, 1]"
   ]
  },
  {
   "cell_type": "markdown",
   "metadata": {
    "user_expressions": []
   },
   "source": [
    "c) Write a function that computes the manhattan distance between two vectors. Which pair of vectors are the most similar under that distance function?"
   ]
  },
  {
   "cell_type": "code",
   "execution_count": null,
   "metadata": {
    "tags": []
   },
   "outputs": [],
   "source": [
    "def manhattan_distance(vector_a, vector_b):\n",
    "    return sum(abs(a - b) for a, b in zip(vector_a, vector_b))"
   ]
  },
  {
   "cell_type": "markdown",
   "metadata": {
    "user_expressions": []
   },
   "source": [
    "Upon applying this function to compare the vectors representing s1, s2, and s3, it was found that the vectors for s1 (\"hello my name is Alice\") and s2 (\"hello my name is Bob\") are the most similar, with the smallest Manhattan distance of 2."
   ]
  },
  {
   "cell_type": "markdown",
   "metadata": {
    "user_expressions": []
   },
   "source": [
    "d) Create a matrix of all these vectors (row major) and add the following sentences in vector form:\n",
    "\n",
    "- \"hi Alice\"\n",
    "- \"hello Claude\"\n",
    "- \"Bob my name is Claude\"\n",
    "- \"hi Claude my name is Alice\"\n",
    "- \"hello Bob\""
   ]
  },
  {
   "cell_type": "code",
   "execution_count": null,
   "metadata": {
    "tags": []
   },
   "outputs": [],
   "source": [
    "[\n",
    " [1, 0, 0, 1, 0, 1, 1, 1],  # \"hello my name is Alice\"\n",
    " [1, 0, 1, 1, 0, 0, 1, 1],  # \"hello my name is Bob\"\n",
    " [1, 1, 0, 1, 1, 0, 0, 1],  # \"hi my name is Claude\"\n",
    " [0, 1, 0, 0, 0, 1, 0, 0],  # \"hi Alice\"\n",
    " [0, 0, 0, 0, 1, 0, 1, 0],  # \"hello Claude\"\n",
    " [1, 0, 1, 1, 1, 0, 0, 1],  # \"Bob my name is Claude\"\n",
    " [1, 1, 0, 1, 1, 1, 0, 1],  # \"hi Claude my name is Alice\"\n",
    " [0, 0, 1, 0, 0, 0, 1, 0]   # \"hello Bob\"\n",
    "]"
   ]
  },
  {
   "cell_type": "markdown",
   "metadata": {
    "user_expressions": []
   },
   "source": [
    "e) How many rows and columns does this matrix have?"
   ]
  },
  {
   "cell_type": "code",
   "execution_count": null,
   "metadata": {
    "tags": []
   },
   "outputs": [],
   "source": [
    "8"
   ]
  },
  {
   "cell_type": "markdown",
   "metadata": {
    "user_expressions": []
   },
   "source": [
    "f) When using the Manhattan distance, which two sentences are the most similar?"
   ]
  },
  {
   "cell_type": "markdown",
   "metadata": {
    "tags": [],
    "user_expressions": []
   },
   "source": [
    "The two sentences that are the most similar, based on the Manhattan distance, are the sentences at index 2 (\"hi my name is Claude\") and index 6 (\"hi Claude my name is Alice\"), with the smallest Manhattan distance of 1. This indicates that these two sentences have the least amount of difference in terms of the presence and absence of specific words, making them the most similar pair among all the sentences considered. "
   ]
  },
  {
   "cell_type": "markdown",
   "metadata": {
    "user_expressions": []
   },
   "source": [
    "#### Part 3 Challenge"
   ]
  },
  {
   "cell_type": "markdown",
   "metadata": {
    "user_expressions": []
   },
   "source": [
    "Given a set of graphs $\\mathcal{G}$, each graph $G \\in \\mathcal{G}$ is defined over the same set of nodes $V$. The graphs are represented by their adjacency matrices, which are 2D arrays where each element indicates whether a pair of nodes is connected by an edge.\n",
    "\n",
    "Your task is to compute the pairwise distances between these graphs based on a specific distance metric. The distance $d(G, G')$ between two graphs $G = (V, E)$ and $G' = (V, E')$ is defined as the sum of the number of edges in $G$ but not in $G'$, and the number of edges in $G'$ but not in $G$. Mathematically, this can be expressed as:\n",
    "\n",
    "$$\n",
    "d(G, G') = |E \\setminus E'| + |E' \\setminus E|.\n",
    "$$\n",
    "\n",
    "##### Requirements:\n",
    "1. **Input**: Should take a list of 2D numpy arrays as input. Each array represents the adjacency matrix of a graph.\n",
    "\n",
    "2. **Output**: Should output a pairwise distance matrix. If there are $n$ graphs in the input list, the output should be an $n \\times n$ matrix where the entry at position $(i, j)$ represents the distance between the $i^{th}$ and $j^{th}$ graph."
   ]
  },
  {
   "cell_type": "code",
   "execution_count": null,
   "metadata": {
    "tags": []
   },
   "outputs": [],
   "source": [
    "import numpy as np\n",
    "\n",
    "def compute_graph_distances(graphs):\n",
    "    num_graphs = len(graphs)\n",
    "    distance_matrix = np.zeros((num_graphs, num_graphs))\n",
    "    \n",
    "    for i in range(num_graphs):\n",
    "        for j in range(i + 1, num_graphs):  # Distance is symmetric\n",
    "            difference = np.sum(np.abs(graphs[i] - graphs[j]))\n",
    "            distance_matrix[i, j] = distance_matrix[j, i] = difference\n",
    "            \n",
    "    return distance_matrix\n",
    "\n",
    "# Example graphs represented by adjacency matrices\n",
    "G1 = np.array([[0, 1, 0], [1, 0, 1], [0, 1, 0]])  # Graph 1\n",
    "G2 = np.array([[0, 1, 1], [1, 0, 0], [1, 0, 0]])  # Graph 2\n",
    "G3 = np.array([[0, 0, 1], [0, 0, 1], [1, 1, 0]])  # Graph 3\n",
    "\n",
    "# Compute and print the pairwise distances\n",
    "distances = compute_graph_distances([G1, G2, G3])\n",
    "print(distances)"
   ]
  }
 ],
 "metadata": {
  "kernelspec": {
   "display_name": "Python 3 (ipykernel)",
   "language": "python",
   "name": "python3"
  },
  "language_info": {
   "codemirror_mode": {
    "name": "ipython",
    "version": 3
   },
   "file_extension": ".py",
   "mimetype": "text/x-python",
   "name": "python",
   "nbconvert_exporter": "python",
   "pygments_lexer": "ipython3",
   "version": "3.9.13"
  },
  "vscode": {
   "interpreter": {
    "hash": "76ca05dc3ea24b2e3b98cdb7774adfbb40773424bf5109b477fd793f623715af"
   }
  }
 },
 "nbformat": 4,
 "nbformat_minor": 4
}
