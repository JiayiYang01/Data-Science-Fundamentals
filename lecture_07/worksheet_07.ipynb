{
 "cells": [
  {
   "cell_type": "markdown",
   "metadata": {
    "user_expressions": []
   },
   "source": [
    "# Worksheet 07\n",
    "\n",
    "Name:  Jiayi Yang\n",
    "UID: U20886114\n",
    "\n",
    "### Topics\n",
    "\n",
    "- Density-Based Clustering\n",
    "\n",
    "### Density-Based Clustering\n",
    "\n",
    "Follow along with the live coding of the DBScan algorithm."
   ]
  },
  {
   "cell_type": "code",
   "execution_count": null,
   "metadata": {},
   "outputs": [],
   "source": [
    "import numpy as np\n",
    "import matplotlib.pyplot as plt\n",
    "import sklearn.datasets as datasets\n",
    "\n",
    "centers = [[1, 1], [-1, -1], [1, -1]]\n",
    "X, _ = datasets.make_blobs(n_samples=750, centers=centers, cluster_std=0.4,\n",
    "                            random_state=0)\n",
    "plt.scatter(X[:,0],X[:,1],s=10, alpha=0.8)\n",
    "plt.show()\n",
    "\n",
    "class DBC():\n",
    "\n",
    "    def __init__(self, dataset, min_pts, epsilon):\n",
    "        self.dataset = dataset\n",
    "        self.min_pts = min_pts\n",
    "        self.epsilon = epsilon\n",
    "\n",
    "    def dbscan(self):\n",
    "        \"\"\"\n",
    "        returns a list of assignments. The index of the\n",
    "        assignment should match the index of the data point\n",
    "        in the dataset.\n",
    "        \"\"\"\n",
    "        return\n",
    "\n",
    "clustering = DBC(X, 3, .2).dbscan()\n",
    "colors = np.array([x for x in 'bgrcmykbgrcmykbgrcmykbgrcmyk'])\n",
    "colors = np.hstack([colors] * 20)\n",
    "plt.scatter(X[:, 0], X[:, 1], c=clustering, cmap='viridis', s=10, alpha=0.8)\n",
    "plt.show()"
   ]
  },
  {
   "cell_type": "markdown",
   "metadata": {
    "tags": [],
    "user_expressions": []
   },
   "source": [
    "## Challenge Problem\n",
    "\n",
    "Using the code above and the template provided below, create the animation below of the DBScan algorithm."
   ]
  },
  {
   "cell_type": "code",
   "execution_count": null,
   "metadata": {
    "tags": []
   },
   "outputs": [],
   "source": [
    "from IPython.display import Image\n",
    "Image(filename=\"dbscan_2.gif\", width=500, height=500)"
   ]
  },
  {
   "cell_type": "markdown",
   "metadata": {
    "user_expressions": []
   },
   "source": [
    "Hints:\n",
    "\n",
    "- First animate the dbscan algorithm for the dataset used in class (before trying to create the above dataset)\n",
    "- Take a snapshot of the assignments when the point gets assigned to a cluster\n",
    "- Confirm that the snapshot works by saving it to a file\n",
    "- Don't forget to close the matplotlib plot after saving the figure\n",
    "- Gather the snapshots in a list of images that you can then save as a gif using the code below\n",
    "- Use `ax.set_aspect('equal')` so that the circles don't appear to be oval shaped\n",
    "- To create the above dataset you need two blobs for the eyes. For the mouth you can use the following process to generate (x, y) pairs:\n",
    "  - Pick an x at random in an interval that makes sense given where the eyes are positioned\n",
    "  - For that x generate y that is 0.2 * x^2 plus a small amount of randomness\n",
    "  - `zip` the x's and y's together and append them to the dataset containing the blobs"
   ]
  },
  {
   "cell_type": "code",
   "execution_count": null,
   "metadata": {
    "tags": []
   },
   "outputs": [],
   "source": [
    "import numpy as np\n",
    "import matplotlib.pyplot as plt\n",
    "import sklearn.datasets as datasets\n",
    "\n",
    "centers = [[1, 1], [-1, -1], [1, -1]]\n",
    "X, _ = datasets.make_blobs(n_samples=750, centers=centers, cluster_std=0.4,\n",
    "random_state=0)\n",
    "plt.scatter(X[:, 0], X[:, 1], s=10, alpha=0.8)\n",
    "plt.show()\n",
    "\n",
    "class DBC():\n",
    "\n",
    "    def __init__(self, dataset, min_pts, epsilon):\n",
    "        self.dataset = dataset\n",
    "        self.min_pts = min_pts\n",
    "        self.epsilon = epsilon\n",
    "        self.assignments = [-1 for _ in range(len(self.dataset))]\n",
    "\n",
    "    def distance(self, i, j):\n",
    "        return np.linalg.norm(self.dataset[i] - self.dataset[j])\n",
    "\n",
    "    def is_core(self, i):\n",
    "        return len(self.get_nbhd(i)) >= self.min_pts\n",
    "\n",
    "    def get_nbhd(self, i):\n",
    "        nbhd = []\n",
    "        for j in range(len(self.dataset)):\n",
    "            if i != j and self.distance(i, j) <= self.epsilon:\n",
    "                nbhd.append(j)\n",
    "            return nbhd\n",
    "\n",
    "\n",
    "    def is_unassigned(self, i):\n",
    "        return self.assignments[i]==-1\n",
    "\n",
    "\n",
    "    def get_unassigned_nbhd(self, i):\n",
    "        nbhd = self.get_nbhd(i)\n",
    "        return [pt for pt in nbhd if self.is_unassigned(pt)]\n",
    "\n",
    "    def make_cluster(self, i, cluster_num):\n",
    "        self.assignments[i] = cluster_num\n",
    "        nbhd_q = self.get_unassigned_nbhd(i)\n",
    "\n",
    "        while nbhd_q:\n",
    "            next_pt = nbhd_q.pop()\n",
    "            if not self.is_unassigned(next_pt):\n",
    "                continue\n",
    "            self.assignments[next_pt] = cluster_num\n",
    "            #self.snap()\n",
    "            if self.is_core(next_pt):\n",
    "                nbhd_q += self.get_unassigned_nbhd(next_pt)\n",
    "\n",
    "    def dbscan(self):\n",
    "        cluster_num = 0\n",
    "\n",
    "        for i in range(len(self.dataset)):\n",
    "            if self.assignments[i] != -1:\n",
    "                continue\n",
    "            if self.is_core(i):\n",
    "                self.make_cluster(i, cluster_num)\n",
    "                cluster_num += 1\n",
    "\n",
    "        return self.assignments\n",
    "\n",
    "clustering = DBC(X, 5, 0.3).dbscan()\n",
    "colors = np.array([x for x in 'bgrcmykbgrcmykbgrcmykbgrcmyk'])\n",
    "colors = np.hstack([colors] * 100)\n",
    "plt.scatter(X[:, 0], X[:, 1], color=colors[clustering].tolist(), s=10, alpha=0.8)\n",
    "plt.show()"
   ]
  },
  {
   "cell_type": "code",
   "execution_count": null,
   "metadata": {},
   "outputs": [],
   "source": []
  }
 ],
 "metadata": {
  "kernelspec": {
   "display_name": "Python 3 (ipykernel)",
   "language": "python",
   "name": "python3"
  },
  "language_info": {
   "codemirror_mode": {
    "name": "ipython",
    "version": 3
   },
   "file_extension": ".py",
   "mimetype": "text/x-python",
   "name": "python",
   "nbconvert_exporter": "python",
   "pygments_lexer": "ipython3",
   "version": "3.9.13"
  },
  "vscode": {
   "interpreter": {
    "hash": "e7370f93d1d0cde622a1f8e1c04877d8463912d04d973331ad4851f04de6915a"
   }
  }
 },
 "nbformat": 4,
 "nbformat_minor": 4
}
